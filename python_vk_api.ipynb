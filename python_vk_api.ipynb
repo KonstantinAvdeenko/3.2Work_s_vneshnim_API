import csv
import time
import requests
import pandas as pd

token = 'Введите свой токен'
version = 5.131
count = 100

 #функция парсинга постов на стене ('wall.get')
def take_all_posts():
    domain = '1tsprint'
    all_posts = []
    offset = 0
    while offset < 1000:
        response = requests.get('https://api.vk.com/method/wall.get',
                                params={
                                    'access_token': token,
                                    'v': version,
                                    'domain': domain,
                                    'count': count,
                                    'offset': offset
                                    }
                                )
        data = response.json()['response']['items']
        offset += 100
        all_posts.extend(data)
        time.sleep(0.5)
    return all_posts
all_posts = take_all_posts()

 #Объединение данных 'posts' и 'reposts' в общую таблицу и сохранение в файл *.csv
list_posts, list_reposts = [], []
for post in all_posts:
    list_posts.append(post['text'])
    list_reposts.append(post['reposts']['count'])
count_posts_reposts = pd.concat([pd.Series(list_posts), pd.Series(list_reposts)], axis=1)
count_posts_reposts.index += 1
count_posts_reposts.columns = ['text_post', 'count_reposts']
count_posts_reposts.to_csv('kolithestvo_postov_and_repostov.csv')
count_posts_reposts.head()

 #функция нахождения количества подписчиков в группе
def count_followers():
    group_id = 215426617
    response = requests.get('https://api.vk.com/method/groups.getMembers',
                                params={
                                    'access_token': token,
                                    'v': version,
                                    'group_id': group_id
                                    }
                                )
    data = response.json()['response']['count']
    time.sleep(0.5)
    return data
count_followers = count_followers()
count_followers = pd.Series(count_followers)
count_followers

 #подсчет общего количества постов в группе
count_posts = pd.Series(kolithestvo_postov_and_repostov['text_post'].count())
count_posts

 #подсчет общего количество репостов к постам в группе
count_reposts = pd.Series(kolithestvo_postov_and_repostov['count_reposts'].sum())
count_reposts

 #Сведение всех полученных данных в общую таблицу и сохранение в .csv файл
total_counts = pd.concat([count_posts, count_reposts, count_followers], axis=1)
total_counts.columns = ['count_posts', 'count_reposts', 'count_followers']
total_counts.to_csv('obshee_kolithestvo.csv')
total_counts